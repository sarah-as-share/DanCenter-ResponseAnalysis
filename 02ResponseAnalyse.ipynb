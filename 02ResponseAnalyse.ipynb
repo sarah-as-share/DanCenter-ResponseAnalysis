{
 "cells": [
  {
   "cell_type": "markdown",
   "metadata": {},
   "source": [
    "## Preparation & Load Data"
   ]
  },
  {
   "cell_type": "code",
   "execution_count": 1,
   "metadata": {},
   "outputs": [
    {
     "name": "stdout",
     "output_type": "stream",
     "text": [
      "Populating the interactive namespace from numpy and matplotlib\n"
     ]
    }
   ],
   "source": [
    "import pandas as pd\n",
    "import pickle\n",
    "%pylab inline"
   ]
  },
  {
   "cell_type": "code",
   "execution_count": 2,
   "metadata": {},
   "outputs": [],
   "source": [
    "versandadressen = pickle.load(open('versandadressen_clean.pkl', 'rb'))\n",
    "buchungen = pd.read_pickle('buchungen_clean.pkl')"
   ]
  },
  {
   "cell_type": "code",
   "execution_count": 3,
   "metadata": {},
   "outputs": [],
   "source": [
    "# remove duplicated entries\n",
    "buchungen.drop_duplicates(inplace=True)\n",
    "for key, dat in versandadressen.items():\n",
    "    dat.drop_duplicates(subset=['newKey'],inplace=True)"
   ]
  },
  {
   "cell_type": "code",
   "execution_count": 4,
   "metadata": {},
   "outputs": [
    {
     "data": {
      "text/html": [
       "<div>\n",
       "<style scoped>\n",
       "    .dataframe tbody tr th:only-of-type {\n",
       "        vertical-align: middle;\n",
       "    }\n",
       "\n",
       "    .dataframe tbody tr th {\n",
       "        vertical-align: top;\n",
       "    }\n",
       "\n",
       "    .dataframe thead th {\n",
       "        text-align: right;\n",
       "    }\n",
       "</style>\n",
       "<table border=\"1\" class=\"dataframe\">\n",
       "  <thead>\n",
       "    <tr style=\"text-align: right;\">\n",
       "      <th></th>\n",
       "      <th>quelle</th>\n",
       "      <th>mediacode</th>\n",
       "      <th>name1</th>\n",
       "      <th>name2</th>\n",
       "      <th>adresse1</th>\n",
       "      <th>plz</th>\n",
       "      <th>ort</th>\n",
       "      <th>nix</th>\n",
       "      <th>name1_clean</th>\n",
       "      <th>nachname_clean</th>\n",
       "      <th>adresse1_clean</th>\n",
       "      <th>strasse_clean</th>\n",
       "      <th>hausnr_clean</th>\n",
       "      <th>plz_clean</th>\n",
       "      <th>ort_clean</th>\n",
       "      <th>newKey</th>\n",
       "    </tr>\n",
       "  </thead>\n",
       "  <tbody>\n",
       "  </tbody>\n",
       "</table>\n",
       "</div>"
      ],
      "text/plain": [
       "Empty DataFrame\n",
       "Columns: [quelle, mediacode, name1, name2, adresse1, plz, ort, nix, name1_clean, nachname_clean, adresse1_clean, strasse_clean, hausnr_clean, plz_clean, ort_clean, newKey]\n",
       "Index: []"
      ]
     },
     "execution_count": 4,
     "metadata": {},
     "output_type": "execute_result"
    }
   ],
   "source": [
    "versandadressen['v1_fruehbucher'].loc[versandadressen['v1_fruehbucher'].duplicated(subset='newKey',keep=False)]"
   ]
  },
  {
   "cell_type": "code",
   "execution_count": 5,
   "metadata": {},
   "outputs": [],
   "source": [
    "buchungen.dropna(subset=['newKey'], inplace=True)"
   ]
  },
  {
   "cell_type": "code",
   "execution_count": 6,
   "metadata": {},
   "outputs": [],
   "source": [
    "# order mailings according to their dates\n",
    "ordered_by_date = ['v1_fruehbucher','e2_norwegen','e4_schweden','v2_katalogbestellkarte','e1_daenemark',\n",
    "                  'e3_rbKunden','v6_norwegen','v5_nordsee','v7_ostsee','v8_schweden', 'v3_dtl','v4_lastMin']\n",
    "\n",
    "versandadressen_ordered_by_date = {}\n",
    "for item in ordered_by_date:\n",
    "    versandadressen_ordered_by_date[item] = versandadressen[item]"
   ]
  },
  {
   "cell_type": "code",
   "execution_count": 7,
   "metadata": {},
   "outputs": [
    {
     "data": {
      "text/plain": [
       "0"
      ]
     },
     "execution_count": 7,
     "metadata": {},
     "output_type": "execute_result"
    }
   ],
   "source": [
    "sum(versandadressen['v1_fruehbucher'].duplicated())\n"
   ]
  },
  {
   "cell_type": "code",
   "execution_count": 8,
   "metadata": {},
   "outputs": [
    {
     "data": {
      "text/html": [
       "<div>\n",
       "<style scoped>\n",
       "    .dataframe tbody tr th:only-of-type {\n",
       "        vertical-align: middle;\n",
       "    }\n",
       "\n",
       "    .dataframe tbody tr th {\n",
       "        vertical-align: top;\n",
       "    }\n",
       "\n",
       "    .dataframe thead th {\n",
       "        text-align: right;\n",
       "    }\n",
       "</style>\n",
       "<table border=\"1\" class=\"dataframe\">\n",
       "  <thead>\n",
       "    <tr style=\"text-align: right;\">\n",
       "      <th></th>\n",
       "      <th>quelle</th>\n",
       "      <th>mediacode</th>\n",
       "      <th>name1</th>\n",
       "      <th>name2</th>\n",
       "      <th>adresse1</th>\n",
       "      <th>plz</th>\n",
       "      <th>ort</th>\n",
       "      <th>nix</th>\n",
       "      <th>name1_clean</th>\n",
       "      <th>nachname_clean</th>\n",
       "      <th>adresse1_clean</th>\n",
       "      <th>strasse_clean</th>\n",
       "      <th>hausnr_clean</th>\n",
       "      <th>plz_clean</th>\n",
       "      <th>ort_clean</th>\n",
       "      <th>newKey</th>\n",
       "    </tr>\n",
       "  </thead>\n",
       "  <tbody>\n",
       "    <tr>\n",
       "      <th>8932</th>\n",
       "      <td>Frühbucher</td>\n",
       "      <td>2016DKWWW</td>\n",
       "      <td>Jens Haberlandt</td>\n",
       "      <td>NaN</td>\n",
       "      <td>Amfuchsbau 23</td>\n",
       "      <td>29331</td>\n",
       "      <td>Lachendorf</td>\n",
       "      <td>NaN</td>\n",
       "      <td>jens haberlandt</td>\n",
       "      <td>haberlandt</td>\n",
       "      <td>fuchsbau 23</td>\n",
       "      <td>fuchsbau</td>\n",
       "      <td>23</td>\n",
       "      <td>29331</td>\n",
       "      <td>lachendorf</td>\n",
       "      <td>haberlandt fuchsbau23 29331lachendorf</td>\n",
       "    </tr>\n",
       "  </tbody>\n",
       "</table>\n",
       "</div>"
      ],
      "text/plain": [
       "          quelle  mediacode            name1 name2       adresse1    plz  \\\n",
       "8932  Frühbucher  2016DKWWW  Jens Haberlandt   NaN  Amfuchsbau 23  29331   \n",
       "\n",
       "             ort  nix      name1_clean nachname_clean adresse1_clean  \\\n",
       "8932  Lachendorf  NaN  jens haberlandt     haberlandt    fuchsbau 23   \n",
       "\n",
       "     strasse_clean hausnr_clean plz_clean   ort_clean  \\\n",
       "8932      fuchsbau           23     29331  lachendorf   \n",
       "\n",
       "                                     newKey  \n",
       "8932  haberlandt fuchsbau23 29331lachendorf  "
      ]
     },
     "execution_count": 8,
     "metadata": {},
     "output_type": "execute_result"
    }
   ],
   "source": [
    "versandadressen['v1_fruehbucher'].loc[versandadressen['v1_fruehbucher'].newKey=='haberlandt fuchsbau23 29331lachendorf']"
   ]
  },
  {
   "cell_type": "markdown",
   "metadata": {},
   "source": [
    "## Daten zusammenführen"
   ]
  },
  {
   "cell_type": "code",
   "execution_count": 9,
   "metadata": {},
   "outputs": [],
   "source": [
    "for key, dat in versandadressen_ordered_by_date.items():\n",
    "    dat['newKey'] = dat['newKey'].fillna('missing')\n",
    "\n",
    "for key, dat in versandadressen_ordered_by_date.items():\n",
    "    buchungen = pd.merge(buchungen, dat[['newKey','name1','mediacode']], how='left', on=['newKey'])\n",
    "    # is there a mailing?\n",
    "    buchungen.loc[-pd.isnull(buchungen['name1']),'name1'] = 1\n",
    "    buchungen.loc[pd.isnull(buchungen['name1']),'name1'] = 0\n",
    "    # corresponding mediacode\n",
    "    colname = key+'_mediacode'\n",
    "    buchungen.rename(columns={'name1':key,'mediacode':colname}, inplace=True)\n"
   ]
  },
  {
   "cell_type": "markdown",
   "metadata": {},
   "source": [
    "## Response Analyse"
   ]
  },
  {
   "cell_type": "code",
   "execution_count": 10,
   "metadata": {},
   "outputs": [],
   "source": [
    "mailing_dates = [\n",
    "                datetime.date(2016, 6, 1),\n",
    "                datetime.date(2016, 10, 12),\n",
    "                datetime.date(2016, 10, 12),\n",
    "                datetime.date(2016, 11, 16),\n",
    "                datetime.date(2016, 11, 23),\n",
    "                datetime.date(2017, 1, 11),\n",
    "                datetime.date(2017, 1, 11),\n",
    "                datetime.date(2017, 1, 18),\n",
    "                datetime.date(2017, 2, 8),\n",
    "                datetime.date(2017, 2, 22),\n",
    "                datetime.date(2017, 3, 8),\n",
    "                datetime.date(2017, 5, 31),\n",
    "                ]\n",
    "\n",
    "sending_ordered_by_date = ['v1_fruehbucher','e2_norwegen','e4_schweden','v2_katalogbestellkarte','e1_daenemark',\n",
    "                  'e3_rbKunden','v6_norwegen','v5_nordsee','v7_ostsee','v8_schweden', 'v3_dtl','v4_lastMin']"
   ]
  },
  {
   "cell_type": "code",
   "execution_count": 11,
   "metadata": {},
   "outputs": [],
   "source": [
    "def which_last_mailing(dat):\n",
    "    for idx, sending in enumerate(sending_ordered_by_date):\n",
    "        if dat[sending]==1:\n",
    "            if (mailing_dates[idx] - dat['Datum'].to_pydatetime().date()).days>0:\n",
    "                return sending\n",
    "    return 'keine Buchung nach Mailing'\n",
    "\n",
    "def which_mediacode(dat):\n",
    "    for idx, sending in enumerate(sending_ordered_by_date):\n",
    "        if dat[sending]==1:\n",
    "            if (mailing_dates[idx] - dat['Datum'].to_pydatetime().date()).days>0:\n",
    "                return dat[sending+'_mediacode']\n",
    "    return 'keine Buchung nach Mailing'\n",
    "        \n",
    "def timeDiff_btw_booking_last_mailing(dat):\n",
    "    for idx, sending in enumerate(sending_ordered_by_date):\n",
    "        if dat[sending]==1:\n",
    "            if (mailing_dates[idx] - dat['Datum'].to_pydatetime().date()).days>0:\n",
    "                return (mailing_dates[idx] - dat['Datum'].to_pydatetime().date()).days\n",
    "    return np.nan\n",
    "        \n",
    "def numberOfMailings_untilBooking(dat):\n",
    "    numberOfMailings = 0\n",
    "    for idx, sending in enumerate(sending_ordered_by_date):\n",
    "        if dat[sending]==1:\n",
    "            numberOfMailings += 1\n",
    "            if (mailing_dates[idx] - dat['Datum'].to_pydatetime().date()).days:\n",
    "                return numberOfMailings            \n",
    "    return numberOfMailings"
   ]
  },
  {
   "cell_type": "code",
   "execution_count": 12,
   "metadata": {},
   "outputs": [],
   "source": [
    "buchungen['last_mailing'] = buchungen.apply(which_last_mailing ,axis=1)\n",
    "buchungen['last_mailing_mediacode'] = buchungen.apply(which_mediacode, axis=1)\n",
    "buchungen['timeDiff_btw_booking_last_mailing'] = buchungen.apply(timeDiff_btw_booking_last_mailing ,axis=1)\n",
    "buchungen['number_of_mailings_until_booking'] = buchungen.apply(numberOfMailings_untilBooking ,axis=1)\n",
    "buchungen['number_of_total_mailings'] = buchungen.apply(lambda x: sum(x.loc[sending_ordered_by_date]), axis=1)"
   ]
  },
  {
   "cell_type": "code",
   "execution_count": 13,
   "metadata": {},
   "outputs": [
    {
     "data": {
      "text/plain": [
       "last_mailing\n",
       "e1_daenemark                   165\n",
       "e2_norwegen                    110\n",
       "e3_rbKunden                    170\n",
       "e4_schweden                     30\n",
       "keine Buchung nach Mailing    2852\n",
       "v2_katalogbestellkarte        1943\n",
       "v3_dtl                         157\n",
       "v4_lastMin                    1171\n",
       "v5_nordsee                    1324\n",
       "v6_norwegen                    362\n",
       "v7_ostsee                      520\n",
       "v8_schweden                    113\n",
       "dtype: int64"
      ]
     },
     "execution_count": 13,
     "metadata": {},
     "output_type": "execute_result"
    }
   ],
   "source": [
    "buchungen_w_mailing_only = buchungen.loc[buchungen.number_of_total_mailings>0].copy()\n",
    "buchungen_w_mailing_only.groupby('last_mailing').size()"
   ]
  },
  {
   "cell_type": "code",
   "execution_count": 14,
   "metadata": {},
   "outputs": [
    {
     "data": {
      "text/html": [
       "<div>\n",
       "<style scoped>\n",
       "    .dataframe tbody tr th:only-of-type {\n",
       "        vertical-align: middle;\n",
       "    }\n",
       "\n",
       "    .dataframe tbody tr th {\n",
       "        vertical-align: top;\n",
       "    }\n",
       "\n",
       "    .dataframe thead th {\n",
       "        text-align: right;\n",
       "    }\n",
       "</style>\n",
       "<table border=\"1\" class=\"dataframe\">\n",
       "  <thead>\n",
       "    <tr style=\"text-align: right;\">\n",
       "      <th></th>\n",
       "      <th>Datum</th>\n",
       "      <th>Buchungsnummer</th>\n",
       "      <th>Kundennummer</th>\n",
       "      <th>MIETE</th>\n",
       "      <th>Hausnation</th>\n",
       "      <th>Name1</th>\n",
       "      <th>Name2</th>\n",
       "      <th>Adresse1</th>\n",
       "      <th>Adresse2</th>\n",
       "      <th>LKZ</th>\n",
       "      <th>...</th>\n",
       "      <th>v8_schweden_mediacode</th>\n",
       "      <th>v3_dtl</th>\n",
       "      <th>v3_dtl_mediacode</th>\n",
       "      <th>v4_lastMin</th>\n",
       "      <th>v4_lastMin_mediacode</th>\n",
       "      <th>last_mailing</th>\n",
       "      <th>last_mailing_mediacode</th>\n",
       "      <th>timeDiff_btw_booking_last_mailing</th>\n",
       "      <th>number_of_mailings_until_booking</th>\n",
       "      <th>number_of_total_mailings</th>\n",
       "    </tr>\n",
       "  </thead>\n",
       "  <tbody>\n",
       "    <tr>\n",
       "      <th>0</th>\n",
       "      <td>2016-07-05</td>\n",
       "      <td>100003</td>\n",
       "      <td>3355207</td>\n",
       "      <td>1246</td>\n",
       "      <td>DK</td>\n",
       "      <td>Heiner Warzecha</td>\n",
       "      <td>NaN</td>\n",
       "      <td>Laubstr. 24</td>\n",
       "      <td>NaN</td>\n",
       "      <td>D</td>\n",
       "      <td>...</td>\n",
       "      <td>NaN</td>\n",
       "      <td>0</td>\n",
       "      <td>NaN</td>\n",
       "      <td>0</td>\n",
       "      <td>NaN</td>\n",
       "      <td>v2_katalogbestellkarte</td>\n",
       "      <td>2014DKAS400</td>\n",
       "      <td>134.0</td>\n",
       "      <td>1</td>\n",
       "      <td>3</td>\n",
       "    </tr>\n",
       "    <tr>\n",
       "      <th>5</th>\n",
       "      <td>2016-07-05</td>\n",
       "      <td>100012</td>\n",
       "      <td>3482431</td>\n",
       "      <td>1123</td>\n",
       "      <td>DK</td>\n",
       "      <td>Roth, Rolf</td>\n",
       "      <td>NaN</td>\n",
       "      <td>Reistert 14</td>\n",
       "      <td>NaN</td>\n",
       "      <td>D</td>\n",
       "      <td>...</td>\n",
       "      <td>2017KANO</td>\n",
       "      <td>1</td>\n",
       "      <td>2017KADE</td>\n",
       "      <td>1</td>\n",
       "      <td>2017KADK</td>\n",
       "      <td>v2_katalogbestellkarte</td>\n",
       "      <td>2014DKAS400</td>\n",
       "      <td>134.0</td>\n",
       "      <td>1</td>\n",
       "      <td>9</td>\n",
       "    </tr>\n",
       "    <tr>\n",
       "      <th>6</th>\n",
       "      <td>2016-07-05</td>\n",
       "      <td>100013</td>\n",
       "      <td>3482431</td>\n",
       "      <td>1123</td>\n",
       "      <td>DK</td>\n",
       "      <td>Roth, Rolf</td>\n",
       "      <td>NaN</td>\n",
       "      <td>Reistert 14</td>\n",
       "      <td>NaN</td>\n",
       "      <td>D</td>\n",
       "      <td>...</td>\n",
       "      <td>2017KANO</td>\n",
       "      <td>1</td>\n",
       "      <td>2017KADE</td>\n",
       "      <td>1</td>\n",
       "      <td>2017KADK</td>\n",
       "      <td>v2_katalogbestellkarte</td>\n",
       "      <td>2014DKAS400</td>\n",
       "      <td>134.0</td>\n",
       "      <td>1</td>\n",
       "      <td>9</td>\n",
       "    </tr>\n",
       "    <tr>\n",
       "      <th>7</th>\n",
       "      <td>2016-07-05</td>\n",
       "      <td>100015</td>\n",
       "      <td>3484083</td>\n",
       "      <td>436</td>\n",
       "      <td>DK</td>\n",
       "      <td>Bichlmaier, Heinz</td>\n",
       "      <td>NaN</td>\n",
       "      <td>Georgistrasse 2</td>\n",
       "      <td>NaN</td>\n",
       "      <td>D</td>\n",
       "      <td>...</td>\n",
       "      <td>NaN</td>\n",
       "      <td>0</td>\n",
       "      <td>NaN</td>\n",
       "      <td>0</td>\n",
       "      <td>NaN</td>\n",
       "      <td>v2_katalogbestellkarte</td>\n",
       "      <td>2014DKWWW</td>\n",
       "      <td>134.0</td>\n",
       "      <td>1</td>\n",
       "      <td>5</td>\n",
       "    </tr>\n",
       "    <tr>\n",
       "      <th>16</th>\n",
       "      <td>2016-07-05</td>\n",
       "      <td>100046</td>\n",
       "      <td>3790033</td>\n",
       "      <td>1106</td>\n",
       "      <td>N</td>\n",
       "      <td>Lothar Leonhardt</td>\n",
       "      <td>NaN</td>\n",
       "      <td>Bergmannsglück 86b</td>\n",
       "      <td>NaN</td>\n",
       "      <td>D</td>\n",
       "      <td>...</td>\n",
       "      <td>2015NWWW</td>\n",
       "      <td>0</td>\n",
       "      <td>NaN</td>\n",
       "      <td>0</td>\n",
       "      <td>NaN</td>\n",
       "      <td>e2_norwegen</td>\n",
       "      <td>2015WWWN</td>\n",
       "      <td>99.0</td>\n",
       "      <td>1</td>\n",
       "      <td>3</td>\n",
       "    </tr>\n",
       "    <tr>\n",
       "      <th>17</th>\n",
       "      <td>2016-07-05</td>\n",
       "      <td>100049</td>\n",
       "      <td>3790945</td>\n",
       "      <td>776</td>\n",
       "      <td>DK</td>\n",
       "      <td>Kiefer, Holger</td>\n",
       "      <td>NaN</td>\n",
       "      <td>Ludwig-Braille-Straße 10</td>\n",
       "      <td>NaN</td>\n",
       "      <td>D</td>\n",
       "      <td>...</td>\n",
       "      <td>NaN</td>\n",
       "      <td>0</td>\n",
       "      <td>NaN</td>\n",
       "      <td>0</td>\n",
       "      <td>NaN</td>\n",
       "      <td>v2_katalogbestellkarte</td>\n",
       "      <td>2014DKWWW</td>\n",
       "      <td>134.0</td>\n",
       "      <td>1</td>\n",
       "      <td>3</td>\n",
       "    </tr>\n",
       "    <tr>\n",
       "      <th>18</th>\n",
       "      <td>2016-07-05</td>\n",
       "      <td>100053</td>\n",
       "      <td>3791899</td>\n",
       "      <td>637</td>\n",
       "      <td>DK</td>\n",
       "      <td>Ulrich Schmidt</td>\n",
       "      <td>NaN</td>\n",
       "      <td>Springstr. 23</td>\n",
       "      <td>NaN</td>\n",
       "      <td>D</td>\n",
       "      <td>...</td>\n",
       "      <td>NaN</td>\n",
       "      <td>0</td>\n",
       "      <td>NaN</td>\n",
       "      <td>0</td>\n",
       "      <td>NaN</td>\n",
       "      <td>v2_katalogbestellkarte</td>\n",
       "      <td>2015DKWWW</td>\n",
       "      <td>134.0</td>\n",
       "      <td>1</td>\n",
       "      <td>4</td>\n",
       "    </tr>\n",
       "    <tr>\n",
       "      <th>20</th>\n",
       "      <td>2016-07-05</td>\n",
       "      <td>100069</td>\n",
       "      <td>3796148</td>\n",
       "      <td>2683</td>\n",
       "      <td>DK</td>\n",
       "      <td>Jan Remmer ter Haseborg</td>\n",
       "      <td>NaN</td>\n",
       "      <td>Am Interessentenforst 8</td>\n",
       "      <td>NaN</td>\n",
       "      <td>D</td>\n",
       "      <td>...</td>\n",
       "      <td>NaN</td>\n",
       "      <td>0</td>\n",
       "      <td>NaN</td>\n",
       "      <td>1</td>\n",
       "      <td>2015DKWWW</td>\n",
       "      <td>v2_katalogbestellkarte</td>\n",
       "      <td>2015DKWWW</td>\n",
       "      <td>134.0</td>\n",
       "      <td>1</td>\n",
       "      <td>4</td>\n",
       "    </tr>\n",
       "    <tr>\n",
       "      <th>21</th>\n",
       "      <td>2016-07-05</td>\n",
       "      <td>100070</td>\n",
       "      <td>3622312</td>\n",
       "      <td>1038</td>\n",
       "      <td>DK</td>\n",
       "      <td>Doris Kolbe</td>\n",
       "      <td>NaN</td>\n",
       "      <td>Köpenicker Straße 296</td>\n",
       "      <td>NaN</td>\n",
       "      <td>D</td>\n",
       "      <td>...</td>\n",
       "      <td>NaN</td>\n",
       "      <td>0</td>\n",
       "      <td>NaN</td>\n",
       "      <td>1</td>\n",
       "      <td>2016DKAS400</td>\n",
       "      <td>v2_katalogbestellkarte</td>\n",
       "      <td>2014DKAS400</td>\n",
       "      <td>134.0</td>\n",
       "      <td>1</td>\n",
       "      <td>6</td>\n",
       "    </tr>\n",
       "    <tr>\n",
       "      <th>22</th>\n",
       "      <td>2016-07-05</td>\n",
       "      <td>100074</td>\n",
       "      <td>3945280</td>\n",
       "      <td>296</td>\n",
       "      <td>DK</td>\n",
       "      <td>Emilia Neff</td>\n",
       "      <td>NaN</td>\n",
       "      <td>Uhlenweg 30b</td>\n",
       "      <td>NaN</td>\n",
       "      <td>D</td>\n",
       "      <td>...</td>\n",
       "      <td>NaN</td>\n",
       "      <td>0</td>\n",
       "      <td>NaN</td>\n",
       "      <td>1</td>\n",
       "      <td>2017KADK</td>\n",
       "      <td>v2_katalogbestellkarte</td>\n",
       "      <td>2014DKWWW</td>\n",
       "      <td>134.0</td>\n",
       "      <td>1</td>\n",
       "      <td>4</td>\n",
       "    </tr>\n",
       "  </tbody>\n",
       "</table>\n",
       "<p>10 rows × 55 columns</p>\n",
       "</div>"
      ],
      "text/plain": [
       "        Datum  Buchungsnummer  Kundennummer MIETE Hausnation  \\\n",
       "0  2016-07-05          100003       3355207  1246         DK   \n",
       "5  2016-07-05          100012       3482431  1123         DK   \n",
       "6  2016-07-05          100013       3482431  1123         DK   \n",
       "7  2016-07-05          100015       3484083   436         DK   \n",
       "16 2016-07-05          100046       3790033  1106          N   \n",
       "17 2016-07-05          100049       3790945   776         DK   \n",
       "18 2016-07-05          100053       3791899   637         DK   \n",
       "20 2016-07-05          100069       3796148  2683         DK   \n",
       "21 2016-07-05          100070       3622312  1038         DK   \n",
       "22 2016-07-05          100074       3945280   296         DK   \n",
       "\n",
       "                      Name1 Name2                  Adresse1 Adresse2 LKZ  \\\n",
       "0           Heiner Warzecha   NaN               Laubstr. 24      NaN   D   \n",
       "5                Roth, Rolf   NaN               Reistert 14      NaN   D   \n",
       "6                Roth, Rolf   NaN               Reistert 14      NaN   D   \n",
       "7         Bichlmaier, Heinz   NaN           Georgistrasse 2      NaN   D   \n",
       "16         Lothar Leonhardt   NaN        Bergmannsglück 86b      NaN   D   \n",
       "17           Kiefer, Holger   NaN  Ludwig-Braille-Straße 10      NaN   D   \n",
       "18           Ulrich Schmidt   NaN             Springstr. 23      NaN   D   \n",
       "20  Jan Remmer ter Haseborg   NaN   Am Interessentenforst 8      NaN   D   \n",
       "21              Doris Kolbe   NaN     Köpenicker Straße 296      NaN   D   \n",
       "22              Emilia Neff   NaN              Uhlenweg 30b      NaN   D   \n",
       "\n",
       "             ...            v8_schweden_mediacode v3_dtl v3_dtl_mediacode  \\\n",
       "0            ...                              NaN      0              NaN   \n",
       "5            ...                         2017KANO      1         2017KADE   \n",
       "6            ...                         2017KANO      1         2017KADE   \n",
       "7            ...                              NaN      0              NaN   \n",
       "16           ...                         2015NWWW      0              NaN   \n",
       "17           ...                              NaN      0              NaN   \n",
       "18           ...                              NaN      0              NaN   \n",
       "20           ...                              NaN      0              NaN   \n",
       "21           ...                              NaN      0              NaN   \n",
       "22           ...                              NaN      0              NaN   \n",
       "\n",
       "   v4_lastMin v4_lastMin_mediacode            last_mailing  \\\n",
       "0           0                  NaN  v2_katalogbestellkarte   \n",
       "5           1             2017KADK  v2_katalogbestellkarte   \n",
       "6           1             2017KADK  v2_katalogbestellkarte   \n",
       "7           0                  NaN  v2_katalogbestellkarte   \n",
       "16          0                  NaN             e2_norwegen   \n",
       "17          0                  NaN  v2_katalogbestellkarte   \n",
       "18          0                  NaN  v2_katalogbestellkarte   \n",
       "20          1            2015DKWWW  v2_katalogbestellkarte   \n",
       "21          1          2016DKAS400  v2_katalogbestellkarte   \n",
       "22          1             2017KADK  v2_katalogbestellkarte   \n",
       "\n",
       "   last_mailing_mediacode timeDiff_btw_booking_last_mailing  \\\n",
       "0             2014DKAS400                             134.0   \n",
       "5             2014DKAS400                             134.0   \n",
       "6             2014DKAS400                             134.0   \n",
       "7               2014DKWWW                             134.0   \n",
       "16               2015WWWN                              99.0   \n",
       "17              2014DKWWW                             134.0   \n",
       "18              2015DKWWW                             134.0   \n",
       "20              2015DKWWW                             134.0   \n",
       "21            2014DKAS400                             134.0   \n",
       "22              2014DKWWW                             134.0   \n",
       "\n",
       "   number_of_mailings_until_booking number_of_total_mailings  \n",
       "0                                 1                        3  \n",
       "5                                 1                        9  \n",
       "6                                 1                        9  \n",
       "7                                 1                        5  \n",
       "16                                1                        3  \n",
       "17                                1                        3  \n",
       "18                                1                        4  \n",
       "20                                1                        4  \n",
       "21                                1                        6  \n",
       "22                                1                        4  \n",
       "\n",
       "[10 rows x 55 columns]"
      ]
     },
     "execution_count": 14,
     "metadata": {},
     "output_type": "execute_result"
    }
   ],
   "source": [
    "buchungen_w_mailing_only.head(10)"
   ]
  },
  {
   "cell_type": "markdown",
   "metadata": {},
   "source": [
    "## Export Data"
   ]
  },
  {
   "cell_type": "code",
   "execution_count": 15,
   "metadata": {},
   "outputs": [
    {
     "name": "stdout",
     "output_type": "stream",
     "text": [
      "(51745, 55)\n",
      "(8917, 55)\n",
      "0\n",
      "0\n"
     ]
    }
   ],
   "source": [
    "print(buchungen.shape)\n",
    "print(buchungen_w_mailing_only.shape)\n",
    "\n",
    "print(sum(buchungen.duplicated()))\n",
    "print(sum(buchungen_w_mailing_only.duplicated()))\n",
    "\n"
   ]
  },
  {
   "cell_type": "code",
   "execution_count": 16,
   "metadata": {},
   "outputs": [
    {
     "data": {
      "text/plain": [
       "array(['Datum', 'Buchungsnummer', 'Kundennummer', 'MIETE', 'Hausnation',\n",
       "       'Name1', 'Name2', 'Adresse1', 'Adresse2', 'LKZ', 'PLZ', 'Ort',\n",
       "       'Buchungskanal', 'Direkt_Büro', 'Name1_repl', 'Name2_repl',\n",
       "       'Adresse1_repl', 'Adresse2_repl', 'Ort_repl', 'vorname_clean',\n",
       "       'nachname_clean', 'strasse_clean', 'hausnr_clean', 'ort_clean',\n",
       "       'plz_clean', 'newKey', 'v1_fruehbucher',\n",
       "       'v1_fruehbucher_mediacode', 'e2_norwegen', 'e2_norwegen_mediacode',\n",
       "       'e4_schweden', 'e4_schweden_mediacode', 'v2_katalogbestellkarte',\n",
       "       'v2_katalogbestellkarte_mediacode', 'e1_daenemark',\n",
       "       'e1_daenemark_mediacode', 'e3_rbKunden', 'e3_rbKunden_mediacode',\n",
       "       'v6_norwegen', 'v6_norwegen_mediacode', 'v5_nordsee',\n",
       "       'v5_nordsee_mediacode', 'v7_ostsee', 'v7_ostsee_mediacode',\n",
       "       'v8_schweden', 'v8_schweden_mediacode', 'v3_dtl',\n",
       "       'v3_dtl_mediacode', 'v4_lastMin', 'v4_lastMin_mediacode',\n",
       "       'last_mailing', 'last_mailing_mediacode',\n",
       "       'timeDiff_btw_booking_last_mailing',\n",
       "       'number_of_mailings_until_booking', 'number_of_total_mailings'],\n",
       "      dtype=object)"
      ]
     },
     "execution_count": 16,
     "metadata": {},
     "output_type": "execute_result"
    }
   ],
   "source": [
    "buchungen_w_mailing_only.columns.values"
   ]
  },
  {
   "cell_type": "code",
   "execution_count": 17,
   "metadata": {},
   "outputs": [],
   "source": [
    "export_data = buchungen_w_mailing_only.loc[:,[\n",
    "       'Datum', 'Buchungsnummer', 'Kundennummer', 'MIETE', 'Hausnation',\n",
    "       'Name1', 'Name2', 'Adresse1', 'Adresse2', 'LKZ', 'PLZ', 'Ort',\n",
    "       'Buchungskanal', 'Direkt_Büro',\n",
    "       'last_mailing','last_mailing_mediacode', 'timeDiff_btw_booking_last_mailing',\n",
    "       'number_of_mailings_until_booking', 'number_of_total_mailings'\n",
    "]]"
   ]
  },
  {
   "cell_type": "code",
   "execution_count": 18,
   "metadata": {},
   "outputs": [],
   "source": [
    "# rename entries in last_mailing column\n",
    "\n",
    "repl_dic={\n",
    "    'v1_fruehbucher':'DM:Frühbucher',\n",
    " 'e2_norwegen':'EV:Norwegen',\n",
    " 'e4_schweden':'EV:Schweden',\n",
    " 'v2_katalogbestellkarte':'DM:Katalogbestellkarte',\n",
    " 'e1_daenemark':'EV:Dänemark',\n",
    " 'e3_rbKunden':'EV:RB-Kunden',\n",
    " 'v6_norwegen':'DM:Norwegen',\n",
    " 'v5_nordsee':'DM:Nordsee',\n",
    " 'v7_ostsee':'DM:Ostsee',\n",
    " 'v8_schweden':'DM:Schweden',\n",
    " 'v3_dtl':'DM:Deutschland',\n",
    " 'v4_lastMin':'DM:LastMinute'}\n",
    "\n",
    "export_data.last_mailing= export_data.last_mailing.apply(lambda x: repl_dic[x] \n",
    "                                                         if x != 'keine Buchung nach Mailing' else x)"
   ]
  },
  {
   "cell_type": "code",
   "execution_count": 19,
   "metadata": {},
   "outputs": [],
   "source": [
    "# rename columns\n",
    "export_data.columns = ['Datum', 'Buchungsnummer', 'Kundennummer', 'Miete', 'Hausnation',\n",
    "       'Name1', 'Name2', 'Adresse1', 'Adresse2', 'LKZ', 'PLZ', 'Ort',\n",
    "       'Buchungskanal', 'Direkt_Büro',\n",
    "       'letzter Kontakt vor Buchung','Mediacode', 'Zeit zwischen Kontakt und Buchung in Tagen',\n",
    "       'Anzahl der Kontakte bis zur Buchung', 'Anzahl aller Kontakte']"
   ]
  },
  {
   "cell_type": "code",
   "execution_count": 20,
   "metadata": {},
   "outputs": [
    {
     "data": {
      "text/plain": [
       "0"
      ]
     },
     "execution_count": 20,
     "metadata": {},
     "output_type": "execute_result"
    }
   ],
   "source": [
    "sum(export_data.duplicated())"
   ]
  },
  {
   "cell_type": "code",
   "execution_count": 21,
   "metadata": {},
   "outputs": [],
   "source": [
    "# save_data\n",
    "export_data.to_csv('response_analyse_auf_buchungsebene.csv',decimal=',',encoding='latin-1')"
   ]
  },
  {
   "cell_type": "markdown",
   "metadata": {},
   "source": [
    "#### Some numbers for reporting"
   ]
  },
  {
   "cell_type": "code",
   "execution_count": 23,
   "metadata": {},
   "outputs": [],
   "source": [
    "export_data.groupby('letzter Kontakt vor Buchung').size().to_csv('letzter_Kontakt_vor_Buchung.csv')\n",
    "export_data.groupby('Mediacode').size().to_csv('Kundengruppe.csv')\n",
    "export_data.groupby('Anzahl der Kontakte bis zur Buchung').size().to_csv('kontakte_bis_zur_buchung.csv')\n",
    "export_data.groupby('Anzahl aller Kontakte').size().to_csv('gesamtanzahl_kontakte.csv')"
   ]
  },
  {
   "cell_type": "markdown",
   "metadata": {},
   "source": [
    "## Buchungen zusammenführen"
   ]
  },
  {
   "cell_type": "code",
   "execution_count": 24,
   "metadata": {},
   "outputs": [
    {
     "name": "stdout",
     "output_type": "stream",
     "text": [
      "newKey\n",
      "boll andrestr.15 9112chemnitz                                        51\n",
      "geffken mergaustr.10 26123oldenburg                                  23\n",
      "st. liboreus gemeinde bremervoerde kirchenstr.2 27432bremervoerde    21\n",
      "siedow mittelstr.1c 16515oranienburg                                 19\n",
      "nowack lisemeitnerstr.22 46325borken                                 18\n",
      "rosenberg hauptstr.14 29690schwarmstedt                               8\n",
      "riis construction gmbh inga lorenzen liebigstr.22 24941flensburg      8\n",
      "rohwer tannenredder18a 23627grossgroenau                              6\n",
      "uekermann geldbeutel1 24149kiel                                       6\n",
      "borchert jahnstr.57 90610winkelhaid                                   6\n",
      "chowdhary dievenowstr.18 14199berlin                                  5\n",
      "mueller duesseldorferstr.457 47055duisburg                            5\n",
      "seeger lichtenowerweg3 15378ruedersdorf                               4\n",
      "kietz sellhopsweg30 22459hburg                                        4\n",
      "dtype: int64\n"
     ]
    }
   ],
   "source": [
    "buchungen_w_mailing_only.loc['last_mailing'] = buchungen_w_mailing_only.last_mailing.apply(lambda x: repl_dic[x] \n",
    "                                                         if x != 'keine Buchung nach Mailing' else x)\n",
    "g = buchungen_w_mailing_only.groupby('newKey').size().sort_values(ascending=False)\n",
    "print(g[:14])\n",
    "ls=list(g.keys()[:13])\n"
   ]
  },
  {
   "cell_type": "code",
   "execution_count": 25,
   "metadata": {},
   "outputs": [
    {
     "data": {
      "text/html": [
       "<div>\n",
       "<style scoped>\n",
       "    .dataframe tbody tr th:only-of-type {\n",
       "        vertical-align: middle;\n",
       "    }\n",
       "\n",
       "    .dataframe tbody tr th {\n",
       "        vertical-align: top;\n",
       "    }\n",
       "\n",
       "    .dataframe thead th {\n",
       "        text-align: right;\n",
       "    }\n",
       "</style>\n",
       "<table border=\"1\" class=\"dataframe\">\n",
       "  <thead>\n",
       "    <tr style=\"text-align: right;\">\n",
       "      <th></th>\n",
       "      <th>Datum</th>\n",
       "      <th>Buchungsnummer</th>\n",
       "      <th>Kundennummer</th>\n",
       "      <th>MIETE</th>\n",
       "      <th>Hausnation</th>\n",
       "      <th>Name1</th>\n",
       "      <th>Name2</th>\n",
       "      <th>Adresse1</th>\n",
       "      <th>Adresse2</th>\n",
       "      <th>LKZ</th>\n",
       "      <th>...</th>\n",
       "      <th>v8_schweden_mediacode</th>\n",
       "      <th>v3_dtl</th>\n",
       "      <th>v3_dtl_mediacode</th>\n",
       "      <th>v4_lastMin</th>\n",
       "      <th>v4_lastMin_mediacode</th>\n",
       "      <th>last_mailing</th>\n",
       "      <th>last_mailing_mediacode</th>\n",
       "      <th>timeDiff_btw_booking_last_mailing</th>\n",
       "      <th>number_of_mailings_until_booking</th>\n",
       "      <th>number_of_total_mailings</th>\n",
       "    </tr>\n",
       "  </thead>\n",
       "  <tbody>\n",
       "    <tr>\n",
       "      <th>956</th>\n",
       "      <td>2016-07-11</td>\n",
       "      <td>103235.0</td>\n",
       "      <td>3906711.0</td>\n",
       "      <td>509</td>\n",
       "      <td>DK</td>\n",
       "      <td>Fabian Gaede</td>\n",
       "      <td>NaN</td>\n",
       "      <td>Hauptstraße 10</td>\n",
       "      <td>NaN</td>\n",
       "      <td>D</td>\n",
       "      <td>...</td>\n",
       "      <td>NaN</td>\n",
       "      <td>0.0</td>\n",
       "      <td>NaN</td>\n",
       "      <td>1.0</td>\n",
       "      <td>2016DKWWW</td>\n",
       "      <td>v2_katalogbestellkarte</td>\n",
       "      <td>2015DKWWW</td>\n",
       "      <td>128.0</td>\n",
       "      <td>1.0</td>\n",
       "      <td>5.0</td>\n",
       "    </tr>\n",
       "    <tr>\n",
       "      <th>957</th>\n",
       "      <td>2016-07-11</td>\n",
       "      <td>103236.0</td>\n",
       "      <td>3906714.0</td>\n",
       "      <td>402</td>\n",
       "      <td>DK</td>\n",
       "      <td>Fabian Gaede</td>\n",
       "      <td>NaN</td>\n",
       "      <td>Hauptstraße 10</td>\n",
       "      <td>NaN</td>\n",
       "      <td>D</td>\n",
       "      <td>...</td>\n",
       "      <td>NaN</td>\n",
       "      <td>0.0</td>\n",
       "      <td>NaN</td>\n",
       "      <td>1.0</td>\n",
       "      <td>2016DKWWW</td>\n",
       "      <td>v2_katalogbestellkarte</td>\n",
       "      <td>2015DKWWW</td>\n",
       "      <td>128.0</td>\n",
       "      <td>1.0</td>\n",
       "      <td>5.0</td>\n",
       "    </tr>\n",
       "    <tr>\n",
       "      <th>35353</th>\n",
       "      <td>2017-05-10</td>\n",
       "      <td>228321.0</td>\n",
       "      <td>3906714.0</td>\n",
       "      <td>240</td>\n",
       "      <td>DK</td>\n",
       "      <td>Fabian Gaede</td>\n",
       "      <td>NaN</td>\n",
       "      <td>Hauptstraße 10</td>\n",
       "      <td>NaN</td>\n",
       "      <td>D</td>\n",
       "      <td>...</td>\n",
       "      <td>NaN</td>\n",
       "      <td>0.0</td>\n",
       "      <td>NaN</td>\n",
       "      <td>1.0</td>\n",
       "      <td>2016DKWWW</td>\n",
       "      <td>v4_lastMin</td>\n",
       "      <td>2016DKWWW</td>\n",
       "      <td>21.0</td>\n",
       "      <td>1.0</td>\n",
       "      <td>5.0</td>\n",
       "    </tr>\n",
       "  </tbody>\n",
       "</table>\n",
       "<p>3 rows × 55 columns</p>\n",
       "</div>"
      ],
      "text/plain": [
       "           Datum  Buchungsnummer  Kundennummer MIETE Hausnation         Name1  \\\n",
       "956   2016-07-11        103235.0     3906711.0   509         DK  Fabian Gaede   \n",
       "957   2016-07-11        103236.0     3906714.0   402         DK  Fabian Gaede   \n",
       "35353 2017-05-10        228321.0     3906714.0   240         DK  Fabian Gaede   \n",
       "\n",
       "      Name2        Adresse1 Adresse2 LKZ           ...             \\\n",
       "956     NaN  Hauptstraße 10      NaN   D           ...              \n",
       "957     NaN  Hauptstraße 10      NaN   D           ...              \n",
       "35353   NaN  Hauptstraße 10      NaN   D           ...              \n",
       "\n",
       "      v8_schweden_mediacode v3_dtl v3_dtl_mediacode v4_lastMin  \\\n",
       "956                     NaN    0.0              NaN        1.0   \n",
       "957                     NaN    0.0              NaN        1.0   \n",
       "35353                   NaN    0.0              NaN        1.0   \n",
       "\n",
       "      v4_lastMin_mediacode            last_mailing last_mailing_mediacode  \\\n",
       "956              2016DKWWW  v2_katalogbestellkarte              2015DKWWW   \n",
       "957              2016DKWWW  v2_katalogbestellkarte              2015DKWWW   \n",
       "35353            2016DKWWW              v4_lastMin              2016DKWWW   \n",
       "\n",
       "      timeDiff_btw_booking_last_mailing number_of_mailings_until_booking  \\\n",
       "956                               128.0                              1.0   \n",
       "957                               128.0                              1.0   \n",
       "35353                              21.0                              1.0   \n",
       "\n",
       "      number_of_total_mailings  \n",
       "956                        5.0  \n",
       "957                        5.0  \n",
       "35353                      5.0  \n",
       "\n",
       "[3 rows x 55 columns]"
      ]
     },
     "execution_count": 25,
     "metadata": {},
     "output_type": "execute_result"
    }
   ],
   "source": [
    "buchungen_w_mailing_only.loc[buchungen_w_mailing_only.newKey=='gaede hauptstr.10 37127niemetal']"
   ]
  },
  {
   "cell_type": "code",
   "execution_count": 26,
   "metadata": {},
   "outputs": [],
   "source": [
    "# nutzer, die weniger als 27 Buchungen haben\n",
    "bookings_to_concat = buchungen_w_mailing_only.loc[-buchungen_w_mailing_only['newKey'].isin(ls)] "
   ]
  },
  {
   "cell_type": "markdown",
   "metadata": {},
   "source": [
    "#### Make Pivot Tables"
   ]
  },
  {
   "cell_type": "code",
   "execution_count": 27,
   "metadata": {},
   "outputs": [
    {
     "data": {
      "text/plain": [
       "array(['Datum', 'Buchungsnummer', 'Kundennummer', 'MIETE', 'Hausnation',\n",
       "       'Name1', 'Name2', 'Adresse1', 'Adresse2', 'LKZ', 'PLZ', 'Ort',\n",
       "       'Buchungskanal', 'Direkt_Büro', 'Name1_repl', 'Name2_repl',\n",
       "       'Adresse1_repl', 'Adresse2_repl', 'Ort_repl', 'vorname_clean',\n",
       "       'nachname_clean', 'strasse_clean', 'hausnr_clean', 'ort_clean',\n",
       "       'plz_clean', 'newKey', 'v1_fruehbucher',\n",
       "       'v1_fruehbucher_mediacode', 'e2_norwegen', 'e2_norwegen_mediacode',\n",
       "       'e4_schweden', 'e4_schweden_mediacode', 'v2_katalogbestellkarte',\n",
       "       'v2_katalogbestellkarte_mediacode', 'e1_daenemark',\n",
       "       'e1_daenemark_mediacode', 'e3_rbKunden', 'e3_rbKunden_mediacode',\n",
       "       'v6_norwegen', 'v6_norwegen_mediacode', 'v5_nordsee',\n",
       "       'v5_nordsee_mediacode', 'v7_ostsee', 'v7_ostsee_mediacode',\n",
       "       'v8_schweden', 'v8_schweden_mediacode', 'v3_dtl',\n",
       "       'v3_dtl_mediacode', 'v4_lastMin', 'v4_lastMin_mediacode',\n",
       "       'last_mailing', 'last_mailing_mediacode',\n",
       "       'timeDiff_btw_booking_last_mailing',\n",
       "       'number_of_mailings_until_booking', 'number_of_total_mailings'],\n",
       "      dtype=object)"
      ]
     },
     "execution_count": 27,
     "metadata": {},
     "output_type": "execute_result"
    }
   ],
   "source": [
    "bookings_to_concat.columns.values"
   ]
  },
  {
   "cell_type": "code",
   "execution_count": 28,
   "metadata": {},
   "outputs": [],
   "source": [
    "anzahl_buchungen = bookings_to_concat.groupby('newKey').size()\n",
    "gesamtumsatz = bookings_to_concat.groupby('newKey')['MIETE'].agg(lambda x: sum(int(v) for v in x))\n",
    "kundengruppe = bookings_to_concat.groupby('newKey')['last_mailing_mediacode'].last()\n",
    "gesamt_kontakte_bis_erste_buchung = bookings_to_concat.groupby('newKey')['number_of_mailings_until_booking'].min() \n",
    "gesamt_kontakte = bookings_to_concat.groupby('newKey')['number_of_total_mailings'].max()\n",
    "rest = bookings_to_concat[['newKey','last_mailing','MIETE','Hausnation','Buchungskanal','Direkt_Büro']].groupby('newKey').agg(lambda x: ','.join(v for v in x))"
   ]
  },
  {
   "cell_type": "code",
   "execution_count": 29,
   "metadata": {},
   "outputs": [],
   "source": [
    "# expan strings from rest: make new columns + fill new columns\n",
    "for i in range(24):\n",
    "    \n",
    "    last_mailing_ = 'letztes_Mailing_' + str(i+1).zfill(2)\n",
    "    miete_ = 'Miete_'+ str(i+1).zfill(2)\n",
    "    hausnation_ = 'Hausnation_'+ str(i+1).zfill(2)\n",
    "    kanal = 'Buchungskanal_' + str(i+1).zfill(2)\n",
    "    direkt = 'Direkt_Büro_' + str(i+1).zfill(2)\n",
    "    \n",
    "    rest[last_mailing_] = rest['last_mailing'].apply(lambda x: x.split(',')[i] if (len(x.split(','))>i) else np.nan) \n",
    "    rest[miete_] = rest['MIETE'].apply(lambda x: int(x.split(',')[i]) if (len(x.split(','))>i) else np.nan)\n",
    "    rest[hausnation_] = rest['Hausnation'].apply(lambda x: x.split(',')[i] if (len(x.split(','))>i) else np.nan)\n",
    "    rest[kanal] = rest['Buchungskanal'].apply(lambda x: x.split(',')[i] if (len(x.split(','))>i) else np.nan)\n",
    "    rest[direkt] = rest['Direkt_Büro'].apply(lambda x: x.split(',')[i] if (len(x.split(','))>i) else np.nan)   \n",
    "    \n",
    "rest.drop(columns=['last_mailing','MIETE','Hausnation','Buchungskanal','Direkt_Büro'],inplace=True)"
   ]
  },
  {
   "cell_type": "markdown",
   "metadata": {},
   "source": [
    "#### Create and save overall table"
   ]
  },
  {
   "cell_type": "code",
   "execution_count": 30,
   "metadata": {},
   "outputs": [],
   "source": [
    "# extract addresses - 1 address per newKey\n",
    "addresses = bookings_to_concat.loc[:,['Name1', 'Name2', 'Adresse1', 'Adresse2', 'LKZ', 'PLZ', 'Ort','newKey']]\n",
    "addresses.drop_duplicates(subset='newKey', inplace=True)\n",
    "addresses.index=addresses.newKey"
   ]
  },
  {
   "cell_type": "code",
   "execution_count": 31,
   "metadata": {},
   "outputs": [],
   "source": [
    "# merge all data on newKey\n",
    "dat_nutzer_ebene= addresses.merge(kundengruppe.to_frame(),left_index=True,right_index=True).merge(\n",
    "                anzahl_buchungen.to_frame(),left_index=True,right_index=True).merge(\n",
    "                gesamt_kontakte_bis_erste_buchung.to_frame(),left_index=True,right_index=True).merge(\n",
    "                gesamt_kontakte.to_frame(),left_index=True,right_index=True).merge(\n",
    "                gesamtumsatz.to_frame(), left_index=True, right_index=True).merge(\n",
    "                rest, left_index=True, right_index=True)\n",
    "dat_nutzer_ebene.drop(columns=['newKey'], inplace=True)"
   ]
  },
  {
   "cell_type": "code",
   "execution_count": 32,
   "metadata": {},
   "outputs": [
    {
     "data": {
      "text/plain": [
       "array(['Name1', 'Name2', 'Adresse1', 'Adresse2', 'LKZ', 'PLZ', 'Ort',\n",
       "       'last_mailing_mediacode', 0, 'number_of_mailings_until_booking',\n",
       "       'number_of_total_mailings', 'MIETE', 'letztes_Mailing_01',\n",
       "       'Miete_01', 'Hausnation_01', 'Buchungskanal_01', 'Direkt_Büro_01',\n",
       "       'letztes_Mailing_02', 'Miete_02', 'Hausnation_02',\n",
       "       'Buchungskanal_02', 'Direkt_Büro_02', 'letztes_Mailing_03',\n",
       "       'Miete_03', 'Hausnation_03', 'Buchungskanal_03', 'Direkt_Büro_03',\n",
       "       'letztes_Mailing_04', 'Miete_04', 'Hausnation_04',\n",
       "       'Buchungskanal_04', 'Direkt_Büro_04', 'letztes_Mailing_05',\n",
       "       'Miete_05', 'Hausnation_05', 'Buchungskanal_05', 'Direkt_Büro_05',\n",
       "       'letztes_Mailing_06', 'Miete_06', 'Hausnation_06',\n",
       "       'Buchungskanal_06', 'Direkt_Büro_06', 'letztes_Mailing_07',\n",
       "       'Miete_07', 'Hausnation_07', 'Buchungskanal_07', 'Direkt_Büro_07',\n",
       "       'letztes_Mailing_08', 'Miete_08', 'Hausnation_08',\n",
       "       'Buchungskanal_08', 'Direkt_Büro_08', 'letztes_Mailing_09',\n",
       "       'Miete_09', 'Hausnation_09', 'Buchungskanal_09', 'Direkt_Büro_09',\n",
       "       'letztes_Mailing_10', 'Miete_10', 'Hausnation_10',\n",
       "       'Buchungskanal_10', 'Direkt_Büro_10', 'letztes_Mailing_11',\n",
       "       'Miete_11', 'Hausnation_11', 'Buchungskanal_11', 'Direkt_Büro_11',\n",
       "       'letztes_Mailing_12', 'Miete_12', 'Hausnation_12',\n",
       "       'Buchungskanal_12', 'Direkt_Büro_12', 'letztes_Mailing_13',\n",
       "       'Miete_13', 'Hausnation_13', 'Buchungskanal_13', 'Direkt_Büro_13',\n",
       "       'letztes_Mailing_14', 'Miete_14', 'Hausnation_14',\n",
       "       'Buchungskanal_14', 'Direkt_Büro_14', 'letztes_Mailing_15',\n",
       "       'Miete_15', 'Hausnation_15', 'Buchungskanal_15', 'Direkt_Büro_15',\n",
       "       'letztes_Mailing_16', 'Miete_16', 'Hausnation_16',\n",
       "       'Buchungskanal_16', 'Direkt_Büro_16', 'letztes_Mailing_17',\n",
       "       'Miete_17', 'Hausnation_17', 'Buchungskanal_17', 'Direkt_Büro_17',\n",
       "       'letztes_Mailing_18', 'Miete_18', 'Hausnation_18',\n",
       "       'Buchungskanal_18', 'Direkt_Büro_18', 'letztes_Mailing_19',\n",
       "       'Miete_19', 'Hausnation_19', 'Buchungskanal_19', 'Direkt_Büro_19',\n",
       "       'letztes_Mailing_20', 'Miete_20', 'Hausnation_20',\n",
       "       'Buchungskanal_20', 'Direkt_Büro_20', 'letztes_Mailing_21',\n",
       "       'Miete_21', 'Hausnation_21', 'Buchungskanal_21', 'Direkt_Büro_21',\n",
       "       'letztes_Mailing_22', 'Miete_22', 'Hausnation_22',\n",
       "       'Buchungskanal_22', 'Direkt_Büro_22', 'letztes_Mailing_23',\n",
       "       'Miete_23', 'Hausnation_23', 'Buchungskanal_23', 'Direkt_Büro_23',\n",
       "       'letztes_Mailing_24', 'Miete_24', 'Hausnation_24',\n",
       "       'Buchungskanal_24', 'Direkt_Büro_24'], dtype=object)"
      ]
     },
     "execution_count": 32,
     "metadata": {},
     "output_type": "execute_result"
    }
   ],
   "source": [
    "dat_nutzer_ebene.columns.values"
   ]
  },
  {
   "cell_type": "code",
   "execution_count": 33,
   "metadata": {},
   "outputs": [],
   "source": [
    "dat_nutzer_ebene.columns =\\\n",
    "['Name1', 'Name2', 'Adresse1', 'Adresse2', 'LKZ', 'PLZ', 'Ort',\n",
    "       'Mediacode', 'Anzahl_der_Buchungen', 'Anzahl_Mailings_bis_zur_ersten_Buchung',\n",
    "       'Anzahl_aller_Mailings', 'Gesamtumsatz', 'letztes_Mailing_01',\n",
    "       'Miete_01', 'Hausnation_01', 'Buchungskanal_01', 'Direkt_Büro_01',\n",
    "       'letztes_Mailing_02', 'Miete_02', 'Hausnation_02',\n",
    "       'Buchungskanal_02', 'Direkt_Büro_02', 'letztes_Mailing_03',\n",
    "       'Miete_03', 'Hausnation_03', 'Buchungskanal_03', 'Direkt_Büro_03',\n",
    "       'letztes_Mailing_04', 'Miete_04', 'Hausnation_04',\n",
    "       'Buchungskanal_04', 'Direkt_Büro_04', 'letztes_Mailing_05',\n",
    "       'Miete_05', 'Hausnation_05', 'Buchungskanal_05', 'Direkt_Büro_05',\n",
    "       'letztes_Mailing_06', 'Miete_06', 'Hausnation_06',\n",
    "       'Buchungskanal_06', 'Direkt_Büro_06', 'letztes_Mailing_07',\n",
    "       'Miete_07', 'Hausnation_07', 'Buchungskanal_07', 'Direkt_Büro_07',\n",
    "       'letztes_Mailing_08', 'Miete_08', 'Hausnation_08',\n",
    "       'Buchungskanal_08', 'Direkt_Büro_08', 'letztes_Mailing_09',\n",
    "       'Miete_09', 'Hausnation_09', 'Buchungskanal_09', 'Direkt_Büro_09',\n",
    "       'letztes_Mailing_10', 'Miete_10', 'Hausnation_10',\n",
    "       'Buchungskanal_10', 'Direkt_Büro_10', 'letztes_Mailing_11',\n",
    "       'Miete_11', 'Hausnation_11', 'Buchungskanal_11', 'Direkt_Büro_11',\n",
    "       'letztes_Mailing_12', 'Miete_12', 'Hausnation_12',\n",
    "       'Buchungskanal_12', 'Direkt_Büro_12', 'letztes_Mailing_13',\n",
    "       'Miete_13', 'Hausnation_13', 'Buchungskanal_13', 'Direkt_Büro_13',\n",
    "       'letztes_Mailing_14', 'Miete_14', 'Hausnation_14',\n",
    "       'Buchungskanal_14', 'Direkt_Büro_14', 'letztes_Mailing_15',\n",
    "       'Miete_15', 'Hausnation_15', 'Buchungskanal_15', 'Direkt_Büro_15',\n",
    "       'letztes_Mailing_16', 'Miete_16', 'Hausnation_16',\n",
    "       'Buchungskanal_16', 'Direkt_Büro_16', 'letztes_Mailing_17',\n",
    "       'Miete_17', 'Hausnation_17', 'Buchungskanal_17', 'Direkt_Büro_17',\n",
    "       'letztes_Mailing_18', 'Miete_18', 'Hausnation_18',\n",
    "       'Buchungskanal_18', 'Direkt_Büro_18', 'letztes_Mailing_19',\n",
    "       'Miete_19', 'Hausnation_19', 'Buchungskanal_19', 'Direkt_Büro_19',\n",
    "       'letztes_Mailing_20', 'Miete_20', 'Hausnation_20',\n",
    "       'Buchungskanal_20', 'Direkt_Büro_20', 'letztes_Mailing_21',\n",
    "       'Miete_21', 'Hausnation_21', 'Buchungskanal_21', 'Direkt_Büro_21',\n",
    "       'letztes_Mailing_22', 'Miete_22', 'Hausnation_22',\n",
    "       'Buchungskanal_22', 'Direkt_Büro_22', 'letztes_Mailing_23',\n",
    "       'Miete_23', 'Hausnation_23', 'Buchungskanal_23', 'Direkt_Büro_23',\n",
    "       'letztes_Mailing_24', 'Miete_24', 'Hausnation_24',\n",
    "       'Buchungskanal_24', 'Direkt_Büro_24']"
   ]
  },
  {
   "cell_type": "code",
   "execution_count": 34,
   "metadata": {},
   "outputs": [],
   "source": [
    "dat_nutzer_ebene.to_csv('response_analyse_auf_nutzerebene.csv',decimal=',',index=False,encoding='latin-1')"
   ]
  },
  {
   "cell_type": "code",
   "execution_count": 37,
   "metadata": {},
   "outputs": [
    {
     "name": "stdout",
     "output_type": "stream",
     "text": [
      "(7804, 132)\n",
      "(8917, 19)\n"
     ]
    }
   ],
   "source": [
    "print(dat_nutzer_ebene.shape)\n",
    "print(export_data.shape)"
   ]
  }
 ],
 "metadata": {
  "kernelspec": {
   "display_name": "Python 3",
   "language": "python",
   "name": "python3"
  },
  "language_info": {
   "codemirror_mode": {
    "name": "ipython",
    "version": 3
   },
   "file_extension": ".py",
   "mimetype": "text/x-python",
   "name": "python",
   "nbconvert_exporter": "python",
   "pygments_lexer": "ipython3",
   "version": "3.6.5"
  }
 },
 "nbformat": 4,
 "nbformat_minor": 2
}
